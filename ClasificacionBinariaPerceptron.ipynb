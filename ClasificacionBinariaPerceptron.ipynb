{
  "nbformat": 4,
  "nbformat_minor": 0,
  "metadata": {
    "colab": {
      "provenance": []
    },
    "kernelspec": {
      "name": "python3",
      "display_name": "Python 3"
    },
    "language_info": {
      "name": "python"
    }
  },
  "cells": [
    {
      "cell_type": "markdown",
      "source": [
        "# Tarea final\n",
        "Hecha por Isis Mociño"
      ],
      "metadata": {
        "id": "CjSkv0qAJm00"
      }
    },
    {
      "cell_type": "code",
      "source": [
        "import numpy as np\n",
        "import math\n",
        "import random\n",
        "import matplotlib.pyplot as plt\n",
        "from numpy import linalg as LA"
      ],
      "metadata": {
        "id": "lGFsfQwU3sHA"
      },
      "execution_count": null,
      "outputs": []
    },
    {
      "cell_type": "markdown",
      "source": [
        "## Funciones"
      ],
      "metadata": {
        "id": "qkRF2GrokYa-"
      }
    },
    {
      "cell_type": "markdown",
      "source": [
        "Primero implementamos la función **sigmoide** (``sig``) y su **derivada** (``dsig``). Como entrada tienen el punto ``x`` donde será evaluada."
      ],
      "metadata": {
        "id": "SjYDGLTPOpC0"
      }
    },
    {
      "cell_type": "code",
      "source": [
        "def sig(x):\n",
        "  return 1/(1+math.exp(-x))\n",
        "\n",
        "# Derivada de la función Sigmoide\n",
        "def dsig(x):\n",
        "  return sig(x)*(1-sig(x))"
      ],
      "metadata": {
        "id": "pas0DKvROpjt"
      },
      "execution_count": null,
      "outputs": []
    },
    {
      "cell_type": "markdown",
      "source": [
        "Haremos uso del **Error Medio Cuadrático (MSE)**, así que implementamos la función ``MSE`` que tiene como entradas: los vectores ``X`` y ``Y``.\n"
      ],
      "metadata": {
        "id": "D3nn3r_zZtE9"
      }
    },
    {
      "cell_type": "code",
      "source": [
        "def MSE(X, Y):\n",
        "  MSE = 0\n",
        "  for i in range(len(X)):\n",
        "    MSE += (X[i] - Y[i])**2\n",
        "  return MSE / len(X)"
      ],
      "metadata": {
        "id": "3fx9XeCkaHIo"
      },
      "execution_count": null,
      "outputs": []
    },
    {
      "cell_type": "markdown",
      "source": [
        "De igual forma, nos será útil una función para **graficar** los puntos. La función ``PlotPuntos`` recibe:\n",
        "\n",
        "\n",
        "*   Conjunto ``D``.\n",
        "*   El resultado de la clasificación del perceptron ``clas``.\n",
        "\n"
      ],
      "metadata": {
        "id": "mL4HAQ5BgDMO"
      }
    },
    {
      "cell_type": "code",
      "source": [
        "def PlotPuntos(D, clas):\n",
        "  for i in range(len(D)):\n",
        "    p = D[i][0]\n",
        "    if clas[i] == 1.0:\n",
        "      plt.scatter(p[1], p[2], marker='o', color=\"green\")\n",
        "    else:\n",
        "      plt.scatter(p[1], p[2], marker='o', color=\"red\")\n",
        "  plt.show()"
      ],
      "metadata": {
        "id": "K6089sOtgO_h"
      },
      "execution_count": null,
      "outputs": []
    },
    {
      "cell_type": "markdown",
      "source": [
        "Finalmente, una función que cuente **aciertos**. ``aciertos`` recibe:\n",
        "\n",
        "\n",
        "*   La clasificación real ``real``.\n",
        "*   La clasificación del perceptron ``clas``.\n",
        "\n"
      ],
      "metadata": {
        "id": "tUr9wt0-jWQ7"
      }
    },
    {
      "cell_type": "code",
      "source": [
        "def aciertos(real, clas):\n",
        "  a = 0\n",
        "  \n",
        "  for i in range(len(real)):\n",
        "    if real[i] == clas[i]:\n",
        "      a += 1 \n",
        "  \n",
        "  return a"
      ],
      "metadata": {
        "id": "wjyJTvQ3jpte"
      },
      "execution_count": null,
      "outputs": []
    },
    {
      "cell_type": "markdown",
      "source": [
        "Ahora implementamos el **perceptron** en la función ``Perceptron``, que tiene como entradas:\n",
        "*   El vector de pesos ``w1`` de capa inicial a oculta.\n",
        "*   El vector de pesos ``w2`` de capa oculta a salida.\n",
        "*   Conjunto ``D`` de vectores (**x**,y).\n",
        "*   Función de activación ``g``."
      ],
      "metadata": {
        "id": "pkbvHi52HmaM"
      }
    },
    {
      "cell_type": "code",
      "source": [
        "def Perceptron(w1, w2, D):\n",
        "\n",
        "  res = np.zeros(len(D))\n",
        "  ite = 0\n",
        "\n",
        "  for v in D:\n",
        "    x = v[0]\n",
        "    y = v[1]\n",
        "\n",
        "    sum_oc = np.zeros(4)\n",
        "    oc = np.zeros(5)\n",
        "    oc[0] = -1\n",
        "\n",
        "    for i in range(4):\n",
        "      for j in range(len(x)):\n",
        "        sum_oc[i] += w1[j][i] * x[j]\n",
        "      oc[i+1] = sig(sum_oc[i])\n",
        "\n",
        "    sum = 0\n",
        "    out = 0\n",
        "    for i in range(len(w2)):\n",
        "      sum += w2[i] * oc[i]\n",
        "    out = sig(sum)\n",
        "\n",
        "    res[ite] = out\n",
        "    ite += 1\n",
        "\n",
        "  return res"
      ],
      "metadata": {
        "id": "09qF1OFEHRN4"
      },
      "execution_count": null,
      "outputs": []
    },
    {
      "cell_type": "markdown",
      "source": [
        "Ahora implementamos la función para **entrenar** y obtener los pesos ``Wei``. Como entradas tiene:\n",
        "\n",
        "\n",
        "*   Vector ``w1`` de pesos de capa inicial a capa oculta.\n",
        "*   Vector ``w2`` de pesos de capa oculta a capa de salida.\n",
        "*   Conjunto ``D`` de vectores (**x**,y).\n",
        "*   Factor de aprendizaje ``nu``.\n",
        "*   Límite de iteraciones ``ite``."
      ],
      "metadata": {
        "id": "QWvFLDn9OgXG"
      }
    },
    {
      "cell_type": "code",
      "source": [
        "def Wei(w1, w2, D, nu, ite):\n",
        "\n",
        "  # Obtenemos los  valores reales de clasificación\n",
        "  real = np.zeros(len(D))\n",
        "  for i in range(len(D)):\n",
        "    real[i] = D[i][1]\n",
        "\n",
        "  for k in range(ite):\n",
        "    for v in D:\n",
        "      x = v[0]\n",
        "      y = v[1]\n",
        "\n",
        "      sum_oc = np.zeros(4)\n",
        "      oc = np.zeros(5)\n",
        "      oc[0] = -1\n",
        "\n",
        "      # PROPAGATION\n",
        "\n",
        "      # Trabajamos en la capa oculta\n",
        "      for i in range(4):\n",
        "        for j in range(len(x)):\n",
        "          sum_oc[i] += w1[j][i] * x[j]\n",
        "        oc[i+1] = sig(sum_oc[i])\n",
        "\n",
        "      # Trabajamos en la capa de salida\n",
        "      sum = 0\n",
        "      out = 0\n",
        "      for i in range(len(w2)):\n",
        "        sum += w2[i] * oc[i]\n",
        "      out = sig(sum)\n",
        "\n",
        "      # BACK PROPAGATION\n",
        "\n",
        "      # Error salida\n",
        "      delta = (y - out)*dsig(sum)\n",
        "\n",
        "      for i in range(len(w2)):\n",
        "        w2[i] += nu * oc[i] * delta  # Actualizamos pesos\n",
        "      \n",
        "      # Error oculto\n",
        "      delta_oc = np.zeros(4)\n",
        "\n",
        "      # Trabajamos en la capa oculta\n",
        "      for i in range(4):\n",
        "        delta_oc[i] = oc[i+1] * (1 - oc[i+1]) * w2[i+1] * delta # Error\n",
        "      \n",
        "      # Actualizamos pesos\n",
        "      for i in range(len(x)):\n",
        "        for j in range(4):\n",
        "          w1[i][j] += nu * x[i] * delta_oc[j]\n",
        "\n",
        "    # Ejecutamos el perceptron\n",
        "    res = Perceptron(w1, w2, D)\n",
        "\n",
        "    # Terminamos si alcanzamos el error deseado \n",
        "    if MSE(res, real) < 1e-5:\n",
        "      return [w1,w2]\n",
        "\n",
        "    # Cada 1000 iteraciones imprimimos:  \n",
        "    if k%1000 == 0:\n",
        "      # No. de iteraciones\n",
        "      print(\"\\nIteración \", k)\n",
        "\n",
        "      # El EMS\n",
        "      print(\"MSE: \", MSE(res, real))\n",
        "\n",
        "      # La gráfica...\n",
        "      # ... pero primero debemos asignar la clasificación a los puntos:\n",
        "      for i in range(len(D)):\n",
        "        if res[i] > 0.5:\n",
        "          res[i] = 1.0\n",
        "        else:\n",
        "          res[i] = 0.0\n",
        "      PlotPuntos(D, res)\n",
        "\n",
        "      # Cantidad de aciertos\n",
        "      print(\"Aciertos: \",aciertos(real, res),\" de \",len(D))\n",
        "      print(\"Precisión: \", aciertos(real, res)/len(D))\n",
        "    \n",
        "  return [w1,w2]"
      ],
      "metadata": {
        "id": "iAtWTyT3PWMQ"
      },
      "execution_count": null,
      "outputs": []
    },
    {
      "cell_type": "markdown",
      "source": [
        "## 1) Entrenamiento"
      ],
      "metadata": {
        "id": "2eJXsijb4dOS"
      }
    },
    {
      "cell_type": "markdown",
      "source": [
        "Primero **generamos** los conjuntos positivo y negativo. En el conjuto positivo los primeros 4 datos serán los vértices del rectángulo, el resto estarán en él."
      ],
      "metadata": {
        "id": "j30FdPwImEDj"
      }
    },
    {
      "cell_type": "code",
      "source": [
        "# POSITIVO\n",
        "\n",
        "x_pos = np.zeros(50)\n",
        "y_pos = np.zeros(50)\n",
        "\n",
        "# Vértices del rectángulo\n",
        "x_pos[0] = 2\n",
        "y_pos[0] = 2\n",
        "x_pos[1] = 2\n",
        "y_pos[1] = 6\n",
        "x_pos[2] = 8\n",
        "y_pos[2] = 2\n",
        "x_pos[3] = 8\n",
        "y_pos[3] = 6\n",
        "\n",
        "# Resto de puntos\n",
        "for i in range(4,50):\n",
        "  x_pos[i] = random.uniform(2.0, 8.0)\n",
        "  y_pos[i] = random.uniform(2.0, 6.0)\n",
        "\n",
        "\n",
        "# NEGATIVO\n",
        "\n",
        "x_neg = np.zeros(50)\n",
        "y_neg = np.zeros(50)\n",
        "\n",
        "for i in range(4,50):\n",
        "  x_neg[i] = random.uniform(0.0, 10.0)\n",
        "  y_neg[i] = random.uniform(0.0, 8.0)\n",
        "\n",
        "  # Volvemos a generar las muestras que caen dentro del rectángulo\n",
        "  while x_neg[i] >= 2.0 and x_neg[i] <= 8.0 and y_neg[i] >= 2.0 and y_neg[i] <= 6.0:\n",
        "    x_neg[i] = random.uniform(0.0, 10.0)\n",
        "    y_neg[i] = random.uniform(0.0, 8.0)"
      ],
      "metadata": {
        "id": "xq2lazEhkuU0"
      },
      "execution_count": null,
      "outputs": []
    },
    {
      "cell_type": "markdown",
      "source": [
        "Graficamos ambos conjuntos."
      ],
      "metadata": {
        "id": "Jsi9qAWtop1k"
      }
    },
    {
      "cell_type": "code",
      "source": [
        "plt.scatter([x_pos], [y_pos], marker=\"o\", color=\"green\")\n",
        "plt.scatter([x_neg], [y_neg], marker=\"o\", color=\"red\")\n",
        "plt.show()"
      ],
      "metadata": {
        "colab": {
          "base_uri": "https://localhost:8080/",
          "height": 265
        },
        "id": "VNyPS9asorTg",
        "outputId": "4125b08d-d059-4ce0-c805-7069f97a3df1"
      },
      "execution_count": null,
      "outputs": [
        {
          "output_type": "display_data",
          "data": {
            "text/plain": [
              "<Figure size 432x288 with 1 Axes>"
            ],
            "image/png": "[encoded data removed]"
          },
          "metadata": {
            "needs_background": "light"
          }
        }
      ]
    },
    {
      "cell_type": "markdown",
      "source": [
        "Ahora, **dividimos** el conjunto en el de entrenamiento (70%) y el de validación (30%)."
      ],
      "metadata": {
        "id": "h_5pcelvpJBH"
      }
    },
    {
      "cell_type": "code",
      "source": [
        "ent = [[[-1, 0, 0], -1]] * 70 # conjunto entrenamiento\n",
        "eva = [[[-1, 0, 0], -1]] * 30 # conjunto evaluación\n",
        "\n",
        "# Asignamos los primeros 35 elementos del conjunto positivo y negativo\n",
        "for i in range(35):\n",
        "  ent[i] = [[-1, x_pos[i], y_pos[i]], 1]\n",
        "  ent[i + 35] = [[-1, x_neg[i], y_neg[i]], 0]\n",
        "\n",
        "# Asignamos los siguientes 15 elementos del conjunto positivo y negativo\n",
        "for i in range(15):\n",
        "  eva[i] = [[-1, x_pos[i + 35], y_pos[i + 35]], 1]\n",
        "  eva[i + 15] = [[-1, x_neg[i + 35], y_neg[i + 35]], 0]"
      ],
      "metadata": {
        "id": "Q5MES0BJwN3j"
      },
      "execution_count": null,
      "outputs": []
    },
    {
      "cell_type": "markdown",
      "source": [
        "Graficamos ambos conjuntos."
      ],
      "metadata": {
        "id": "KsWiJP3e48CM"
      }
    },
    {
      "cell_type": "code",
      "source": [
        "print('Conjunto de entrenamiento:')\n",
        "\n",
        "for i in range(len(ent)):\n",
        "  x = ent[i][0]\n",
        "  if i >= 0 and i < 35:\n",
        "    plt.scatter(x[1], x[2], marker=\"o\", color=\"green\")\n",
        "  else:\n",
        "    plt.scatter(x[1], x[2], marker=\"o\", color=\"red\")\n",
        "\n",
        "plt.show()\n",
        "\n",
        "print('\\nConjunto de evaluación:')\n",
        "\n",
        "for i in range(len(eva)):\n",
        "  x = eva[i][0]\n",
        "  if i >= 0 and i < 15:\n",
        "    plt.scatter(x[1], x[2], marker=\"o\", color=\"green\")\n",
        "  else:\n",
        "    plt.scatter(x[1], x[2], marker=\"o\", color=\"red\")\n",
        "\n",
        "plt.show()"
      ],
      "metadata": {
        "colab": {
          "base_uri": "https://localhost:8080/",
          "height": 565
        },
        "id": "ohC4V0kh4853",
        "outputId": "668d51a3-e099-4bf8-e3ea-dea5fbf31963"
      },
      "execution_count": null,
      "outputs": [
        {
          "output_type": "stream",
          "name": "stdout",
          "text": [
            "Conjunto de entrenamiento:\n"
          ]
        },
        {
          "output_type": "display_data",
          "data": {
            "text/plain": [
              "<Figure size 432x288 with 1 Axes>"
            ],
            "image/png": "[encoded data removed]"
          },
          "metadata": {
            "needs_background": "light"
          }
        },
        {
          "output_type": "stream",
          "name": "stdout",
          "text": [
            "\n",
            "Conjunto de evaluación:\n"
          ]
        },
        {
          "output_type": "display_data",
          "data": {
            "text/plain": [
              "<Figure size 432x288 with 1 Axes>"
            ],
            "image/png": "[encoded data removed]"
          },
          "metadata": {
            "needs_background": "light"
          }
        }
      ]
    },
    {
      "cell_type": "markdown",
      "source": [
        "Procedemos a **entrenar** a la red."
      ],
      "metadata": {
        "id": "8PrkRf7Z5Dvy"
      }
    },
    {
      "cell_type": "code",
      "source": [
        "# Pesos de capa inicial a oculta\n",
        "w1 = [ [0.0] * 4 ] * 3\n",
        "\n",
        "# Los generamos de manera aleatoria\n",
        "for i in range(3):\n",
        "  w1[i] = [random.uniform(0.0, 1.0), random.uniform(0.0, 1.0), random.uniform(0.0, 1.0), random.uniform(0.0, 1.0)]\n",
        "\n",
        "# Pesos de capa oculta a final\n",
        "# Los generamos de manera aleatoria\n",
        "w2 = [random.uniform(0.0, 1.0), random.uniform(0.0, 1.0), random.uniform(0.0, 1.0), random.uniform(0.0, 1.0), random.uniform(0.0, 1.0)]\n",
        "\n",
        "# Entrenamiento\n",
        "fw1, fw2 = Wei(np.array(w1), np.array(w2), ent, 0.1, 12001)"
      ],
      "metadata": {
        "colab": {
          "base_uri": "https://localhost:8080/",
          "height": 1000
        },
        "id": "2scqJ_n95EDK",
        "outputId": "2816c76c-1f46-4370-c37d-208e42954992"
      },
      "execution_count": null,
      "outputs": [
        {
          "output_type": "stream",
          "name": "stdout",
          "text": [
            "\n",
            "Iteración  0\n",
            "MSE:  0.2484764751625737\n"
          ]
        },
        {
          "output_type": "display_data",
          "data": {
            "text/plain": [
              "<Figure size 432x288 with 1 Axes>"
            ],
            "image/png": "[encoded data removed]"
          },
          "metadata": {
            "needs_background": "light"
          }
        },
        {
          "output_type": "stream",
          "name": "stdout",
          "text": [
            "Aciertos:  35  de  70\n",
            "Precisión:  0.5\n",
            "\n",
            "Iteración  1000\n",
            "MSE:  0.19178328292173838\n"
          ]
        },
        {
          "output_type": "display_data",
          "data": {
            "text/plain": [
              "<Figure size 432x288 with 1 Axes>"
            ],
            "image/png": "[encoded data removed]"
          },
          "metadata": {
            "needs_background": "light"
          }
        },
        {
          "output_type": "stream",
          "name": "stdout",
          "text": [
            "Aciertos:  45  de  70\n",
            "Precisión:  0.6428571428571429\n",
            "\n",
            "Iteración  2000\n",
            "MSE:  0.28684070221107605\n"
          ]
        },
        {
          "output_type": "display_data",
          "data": {
            "text/plain": [
              "<Figure size 432x288 with 1 Axes>"
            ],
            "image/png": "[encoded data removed]"
          },
          "metadata": {
            "needs_background": "light"
          }
        },
        {
          "output_type": "stream",
          "name": "stdout",
          "text": [
            "Aciertos:  39  de  70\n",
            "Precisión:  0.5571428571428572\n",
            "\n",
            "Iteración  3000\n",
            "MSE:  0.15585414144940715\n"
          ]
        },
        {
          "output_type": "display_data",
          "data": {
            "text/plain": [
              "<Figure size 432x288 with 1 Axes>"
            ],
            "image/png": "[encoded data removed]"
          },
          "metadata": {
            "needs_background": "light"
          }
        },
        {
          "output_type": "stream",
          "name": "stdout",
          "text": [
            "Aciertos:  55  de  70\n",
            "Precisión:  0.7857142857142857\n",
            "\n",
            "Iteración  4000\n",
            "MSE:  0.08789780479293907\n"
          ]
        },
        {
          "output_type": "display_data",
          "data": {
            "text/plain": [
              "<Figure size 432x288 with 1 Axes>"
            ],
            "image/png": "[encoded data removed]"
          },
          "metadata": {
            "needs_background": "light"
          }
        },
        {
          "output_type": "stream",
          "name": "stdout",
          "text": [
            "Aciertos:  62  de  70\n",
            "Precisión:  0.8857142857142857\n",
            "\n",
            "Iteración  5000\n",
            "MSE:  0.06689062756442526\n"
          ]
        },
        {
          "output_type": "display_data",
          "data": {
            "text/plain": [
              "<Figure size 432x288 with 1 Axes>"
            ],
            "image/png": "[encoded data removed]"
          },
          "metadata": {
            "needs_background": "light"
          }
        },
        {
          "output_type": "stream",
          "name": "stdout",
          "text": [
            "Aciertos:  64  de  70\n",
            "Precisión:  0.9142857142857143\n",
            "\n",
            "Iteración  6000\n",
            "MSE:  0.0570101451389429\n"
          ]
        },
        {
          "output_type": "display_data",
          "data": {
            "text/plain": [
              "<Figure size 432x288 with 1 Axes>"
            ],
            "image/png": "[encoded data removed]"
          },
          "metadata": {
            "needs_background": "light"
          }
        },
        {
          "output_type": "stream",
          "name": "stdout",
          "text": [
            "Aciertos:  66  de  70\n",
            "Precisión:  0.9428571428571428\n",
            "\n",
            "Iteración  7000\n",
            "MSE:  0.05852432439603801\n"
          ]
        },
        {
          "output_type": "display_data",
          "data": {
            "text/plain": [
              "<Figure size 432x288 with 1 Axes>"
            ],
            "image/png": "[encoded data removed]"
          },
          "metadata": {
            "needs_background": "light"
          }
        },
        {
          "output_type": "stream",
          "name": "stdout",
          "text": [
            "Aciertos:  66  de  70\n",
            "Precisión:  0.9428571428571428\n",
            "\n",
            "Iteración  8000\n",
            "MSE:  0.06125451031633763\n"
          ]
        },
        {
          "output_type": "display_data",
          "data": {
            "text/plain": [
              "<Figure size 432x288 with 1 Axes>"
            ],
            "image/png": "[encoded data removed]"
          },
          "metadata": {
            "needs_background": "light"
          }
        },
        {
          "output_type": "stream",
          "name": "stdout",
          "text": [
            "Aciertos:  64  de  70\n",
            "Precisión:  0.9142857142857143\n",
            "\n",
            "Iteración  9000\n",
            "MSE:  0.05589338270899343\n"
          ]
        },
        {
          "output_type": "display_data",
          "data": {
            "text/plain": [
              "<Figure size 432x288 with 1 Axes>"
            ],
            "image/png": "[encoded data removed]"
          },
          "metadata": {
            "needs_background": "light"
          }
        },
        {
          "output_type": "stream",
          "name": "stdout",
          "text": [
            "Aciertos:  66  de  70\n",
            "Precisión:  0.9428571428571428\n",
            "\n",
            "Iteración  10000\n",
            "MSE:  0.0534505600503429\n"
          ]
        },
        {
          "output_type": "display_data",
          "data": {
            "text/plain": [
              "<Figure size 432x288 with 1 Axes>"
            ],
            "image/png": "[encoded data removed]"
          },
          "metadata": {
            "needs_background": "light"
          }
        },
        {
          "output_type": "stream",
          "name": "stdout",
          "text": [
            "Aciertos:  66  de  70\n",
            "Precisión:  0.9428571428571428\n",
            "\n",
            "Iteración  11000\n",
            "MSE:  0.05166156408399773\n"
          ]
        },
        {
          "output_type": "display_data",
          "data": {
            "text/plain": [
              "<Figure size 432x288 with 1 Axes>"
            ],
            "image/png": "[encoded data removed]"
          },
          "metadata": {
            "needs_background": "light"
          }
        },
        {
          "output_type": "stream",
          "name": "stdout",
          "text": [
            "Aciertos:  66  de  70\n",
            "Precisión:  0.9428571428571428\n",
            "\n",
            "Iteración  12000\n",
            "MSE:  0.048976060633614524\n"
          ]
        },
        {
          "output_type": "display_data",
          "data": {
            "text/plain": [
              "<Figure size 432x288 with 1 Axes>"
            ],
            "image/png": "[encoded data removed]"
          },
          "metadata": {
            "needs_background": "light"
          }
        },
        {
          "output_type": "stream",
          "name": "stdout",
          "text": [
            "Aciertos:  66  de  70\n",
            "Precisión:  0.9428571428571428\n"
          ]
        }
      ]
    },
    {
      "cell_type": "markdown",
      "source": [
        "Con el resultado arrojado por el entrenamiento, **evaluamos** el perceptron con el conjunto de evaluación."
      ],
      "metadata": {
        "id": "RB11G1JYJiMG"
      }
    },
    {
      "cell_type": "code",
      "source": [
        "D = eva\n",
        "\n",
        "res = Perceptron(np.array(fw1), np.array(fw2), D)\n",
        "\n",
        "real = np.zeros(len(D))\n",
        "\n",
        "for i in range(len(D)):\n",
        "  real[i] = D[i][1]\n",
        "\n",
        "# El EMS\n",
        "print(\"MSE: \", MSE(res, real))\n",
        "\n",
        "# La gráfica...\n",
        "# ... pero primero debemos asignar la clasificación a los puntos:\n",
        "for i in range(len(D)):\n",
        "  if res[i] > 0.5:\n",
        "    res[i] = 1.0\n",
        "  else:\n",
        "    res[i] = 0.0\n",
        "PlotPuntos(D, res)\n",
        "\n",
        "# Cantidad de aciertos\n",
        "print(\"Aciertos: \",aciertos(real, res),\" de \",len(D))\n",
        "print(\"Precisión: \", aciertos(real, res)/len(D))"
      ],
      "metadata": {
        "colab": {
          "base_uri": "https://localhost:8080/",
          "height": 317
        },
        "id": "6h6AtRAk-xqi",
        "outputId": "8d137a4a-6240-4fc2-9057-38468b856b04"
      },
      "execution_count": null,
      "outputs": [
        {
          "output_type": "stream",
          "name": "stdout",
          "text": [
            "MSE:  0.06254714524951636\n"
          ]
        },
        {
          "output_type": "display_data",
          "data": {
            "text/plain": [
              "<Figure size 432x288 with 1 Axes>"
            ],
            "image/png": "[encoded data removed]"
          },
          "metadata": {
            "needs_background": "light"
          }
        },
        {
          "output_type": "stream",
          "name": "stdout",
          "text": [
            "Aciertos:  28  de  30\n",
            "Precisión:  0.9333333333333333\n"
          ]
        }
      ]
    },
    {
      "cell_type": "markdown",
      "source": [
        "## 2) Acerca del conjunto de entrenamiento"
      ],
      "metadata": {
        "id": "T7Lvcm6959Y8"
      }
    },
    {
      "cell_type": "markdown",
      "source": [
        "**a) Error cuadrático del conjunto**\n",
        "\n",
        "En la iteración 0 podemos observar que el error cuadrático es 0.2484764751625737. Tras 12,000 iteraciones se alcanza un error cuadrático de 0.048976060633614524.\n",
        "\n",
        "**b) ¿Cuántas muestras están bien/mal calificadas?**\n",
        "\n",
        "Se clasifican correctamente 66 de 70 muestras.\n",
        "\n"
      ],
      "metadata": {
        "id": "Ozww0McD8aKQ"
      }
    },
    {
      "cell_type": "markdown",
      "source": [
        "## 3) Precisión de clasificación de la red sobre el conjunto de entrenamiento"
      ],
      "metadata": {
        "id": "LH4u85o26MkG"
      }
    },
    {
      "cell_type": "markdown",
      "source": [
        "Se alcanza una precisión de 0.9428571428571428."
      ],
      "metadata": {
        "id": "qp48a3iVEifq"
      }
    },
    {
      "cell_type": "markdown",
      "source": [
        "## 4) Acerca del conjunto de validación"
      ],
      "metadata": {
        "id": "UaiZNw7U863w"
      }
    },
    {
      "cell_type": "markdown",
      "source": [
        "**a) Error cuadrático del conjunto**\n",
        "\n",
        "El error cuadrático es 0.06254714524951636.\n",
        "\n",
        "**b) ¿Cuántas muestras están bien/mal calificadas?**\n",
        "\n",
        "Se clasifican correctamente 28 de 30 muestras."
      ],
      "metadata": {
        "id": "h56Fv_LkEu0n"
      }
    },
    {
      "cell_type": "markdown",
      "source": [
        "## 5) Precisión de clasificación de la red sobre el conjunto de validación"
      ],
      "metadata": {
        "id": "XSkNhvqw9cRU"
      }
    },
    {
      "cell_type": "markdown",
      "source": [
        "Se alcanza una precisión de 0.9333333333333333."
      ],
      "metadata": {
        "id": "GfUtoU3CE61p"
      }
    },
    {
      "cell_type": "markdown",
      "source": [
        "## 6) Iteraciones necesarias para entrenar la red"
      ],
      "metadata": {
        "id": "OhMOsHRD9nra"
      }
    },
    {
      "cell_type": "markdown",
      "source": [
        "El error deseado nunca se alcanzó, así que se realizaron 12,000 iteraciones, pues fue el límite que se le dió además del error."
      ],
      "metadata": {
        "id": "4vpDZqPAFB-P"
      }
    },
    {
      "cell_type": "markdown",
      "source": [
        "## 7) Tamaño y parámetros del perceptrón aprendido"
      ],
      "metadata": {
        "id": "YFN9OKI191Ml"
      }
    },
    {
      "cell_type": "markdown",
      "source": [
        "Trabajamos con un perceptrón de dos capas con tres entradas, donde la capa oculta se constituía de 4 neuronas y la de salida únicamente de una neurona.\n",
        "\n",
        "Por otro lado, el parámetro aprendido fue de 0.9428571428571428."
      ],
      "metadata": {
        "id": "ucYlDU2MFUX9"
      }
    },
    {
      "cell_type": "markdown",
      "source": [
        "## 8) Función de cada neurona de la capa escondida"
      ],
      "metadata": {
        "id": "A6kaprQhAcY5"
      }
    },
    {
      "cell_type": "markdown",
      "source": [
        "La capa oculta emplea 4 neuronas. Ya que queremos emular la división que realiza el recántugo y éste cuenta con 4 aristas, cada neurona divide en 2 el conjunto mediante una línea recta. Donde cada una de estas divisiones intersecta representa el rectángulo deseado, que es donde se encuentra el conjunto positivo."
      ],
      "metadata": {
        "id": "vU7Yy4Y5GJZC"
      }
    }
  ]
}